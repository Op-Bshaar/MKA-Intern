{
 "cells": [
  {
   "cell_type": "code",
   "execution_count": 1,
   "id": "cd9a1860",
   "metadata": {
    "_cell_guid": "b1076dfc-b9ad-4769-8c92-a6c4dae69d19",
    "_uuid": "8f2839f25d086af736a60e9eeb907d3b93b6e0e5",
    "execution": {
     "iopub.execute_input": "2025-08-04T09:46:05.577654Z",
     "iopub.status.busy": "2025-08-04T09:46:05.577319Z",
     "iopub.status.idle": "2025-08-04T09:46:07.356811Z",
     "shell.execute_reply": "2025-08-04T09:46:07.355635Z"
    },
    "papermill": {
     "duration": 1.788083,
     "end_time": "2025-08-04T09:46:07.358773",
     "exception": false,
     "start_time": "2025-08-04T09:46:05.570690",
     "status": "completed"
    },
    "tags": []
   },
   "outputs": [
    {
     "name": "stdout",
     "output_type": "stream",
     "text": [
      "/kaggle/input/ames-housing-dataset/AmesHousing.csv\n"
     ]
    }
   ],
   "source": [
    "# This Python 3 environment comes with many helpful analytics libraries installed\n",
    "# It is defined by the kaggle/python Docker image: https://github.com/kaggle/docker-python\n",
    "# For example, here's several helpful packages to load\n",
    "\n",
    "import numpy as np # linear algebra\n",
    "import pandas as pd # data processing, CSV file I/O (e.g. pd.read_csv)\n",
    "\n",
    "# Input data files are available in the read-only \"../input/\" directory\n",
    "# For example, running this (by clicking run or pressing Shift+Enter) will list all files under the input directory\n",
    "\n",
    "import os\n",
    "for dirname, _, filenames in os.walk('/kaggle/input'):\n",
    "    for filename in filenames:\n",
    "        print(os.path.join(dirname, filename))\n",
    "\n",
    "# You can write up to 20GB to the current directory (/kaggle/working/) that gets preserved as output when you create a version using \"Save & Run All\" \n",
    "# You can also write temporary files to /kaggle/temp/, but they won't be saved outside of the current session"
   ]
  },
  {
   "cell_type": "code",
   "execution_count": 2,
   "id": "8d1d8505",
   "metadata": {
    "execution": {
     "iopub.execute_input": "2025-08-04T09:46:07.370285Z",
     "iopub.status.busy": "2025-08-04T09:46:07.369364Z",
     "iopub.status.idle": "2025-08-04T09:46:09.895308Z",
     "shell.execute_reply": "2025-08-04T09:46:09.894462Z"
    },
    "papermill": {
     "duration": 2.533261,
     "end_time": "2025-08-04T09:46:09.897026",
     "exception": false,
     "start_time": "2025-08-04T09:46:07.363765",
     "status": "completed"
    },
    "tags": []
   },
   "outputs": [],
   "source": [
    "import matplotlib.pyplot as plt\n",
    "import seaborn as sns\n",
    "\n",
    "from sklearn.ensemble import RandomForestRegressor\n",
    "from sklearn.model_selection import train_test_split, cross_val_score\n",
    "from sklearn.metrics import mean_squared_error, r2_score\n",
    "from sklearn.impute import SimpleImputer\n",
    "from sklearn.preprocessing import LabelEncoder"
   ]
  },
  {
   "cell_type": "code",
   "execution_count": 3,
   "id": "b87ce6b2",
   "metadata": {
    "execution": {
     "iopub.execute_input": "2025-08-04T09:46:09.907235Z",
     "iopub.status.busy": "2025-08-04T09:46:09.906814Z",
     "iopub.status.idle": "2025-08-04T09:46:10.003277Z",
     "shell.execute_reply": "2025-08-04T09:46:10.002469Z"
    },
    "papermill": {
     "duration": 0.103177,
     "end_time": "2025-08-04T09:46:10.004804",
     "exception": false,
     "start_time": "2025-08-04T09:46:09.901627",
     "status": "completed"
    },
    "tags": []
   },
   "outputs": [
    {
     "data": {
      "text/html": [
       "<div>\n",
       "<style scoped>\n",
       "    .dataframe tbody tr th:only-of-type {\n",
       "        vertical-align: middle;\n",
       "    }\n",
       "\n",
       "    .dataframe tbody tr th {\n",
       "        vertical-align: top;\n",
       "    }\n",
       "\n",
       "    .dataframe thead th {\n",
       "        text-align: right;\n",
       "    }\n",
       "</style>\n",
       "<table border=\"1\" class=\"dataframe\">\n",
       "  <thead>\n",
       "    <tr style=\"text-align: right;\">\n",
       "      <th></th>\n",
       "      <th>Order</th>\n",
       "      <th>PID</th>\n",
       "      <th>MS SubClass</th>\n",
       "      <th>MS Zoning</th>\n",
       "      <th>Lot Frontage</th>\n",
       "      <th>Lot Area</th>\n",
       "      <th>Street</th>\n",
       "      <th>Alley</th>\n",
       "      <th>Lot Shape</th>\n",
       "      <th>Land Contour</th>\n",
       "      <th>...</th>\n",
       "      <th>Pool Area</th>\n",
       "      <th>Pool QC</th>\n",
       "      <th>Fence</th>\n",
       "      <th>Misc Feature</th>\n",
       "      <th>Misc Val</th>\n",
       "      <th>Mo Sold</th>\n",
       "      <th>Yr Sold</th>\n",
       "      <th>Sale Type</th>\n",
       "      <th>Sale Condition</th>\n",
       "      <th>SalePrice</th>\n",
       "    </tr>\n",
       "  </thead>\n",
       "  <tbody>\n",
       "    <tr>\n",
       "      <th>0</th>\n",
       "      <td>1</td>\n",
       "      <td>526301100</td>\n",
       "      <td>20</td>\n",
       "      <td>RL</td>\n",
       "      <td>141.0</td>\n",
       "      <td>31770</td>\n",
       "      <td>Pave</td>\n",
       "      <td>NaN</td>\n",
       "      <td>IR1</td>\n",
       "      <td>Lvl</td>\n",
       "      <td>...</td>\n",
       "      <td>0</td>\n",
       "      <td>NaN</td>\n",
       "      <td>NaN</td>\n",
       "      <td>NaN</td>\n",
       "      <td>0</td>\n",
       "      <td>5</td>\n",
       "      <td>2010</td>\n",
       "      <td>WD</td>\n",
       "      <td>Normal</td>\n",
       "      <td>215000</td>\n",
       "    </tr>\n",
       "    <tr>\n",
       "      <th>1</th>\n",
       "      <td>2</td>\n",
       "      <td>526350040</td>\n",
       "      <td>20</td>\n",
       "      <td>RH</td>\n",
       "      <td>80.0</td>\n",
       "      <td>11622</td>\n",
       "      <td>Pave</td>\n",
       "      <td>NaN</td>\n",
       "      <td>Reg</td>\n",
       "      <td>Lvl</td>\n",
       "      <td>...</td>\n",
       "      <td>0</td>\n",
       "      <td>NaN</td>\n",
       "      <td>MnPrv</td>\n",
       "      <td>NaN</td>\n",
       "      <td>0</td>\n",
       "      <td>6</td>\n",
       "      <td>2010</td>\n",
       "      <td>WD</td>\n",
       "      <td>Normal</td>\n",
       "      <td>105000</td>\n",
       "    </tr>\n",
       "    <tr>\n",
       "      <th>2</th>\n",
       "      <td>3</td>\n",
       "      <td>526351010</td>\n",
       "      <td>20</td>\n",
       "      <td>RL</td>\n",
       "      <td>81.0</td>\n",
       "      <td>14267</td>\n",
       "      <td>Pave</td>\n",
       "      <td>NaN</td>\n",
       "      <td>IR1</td>\n",
       "      <td>Lvl</td>\n",
       "      <td>...</td>\n",
       "      <td>0</td>\n",
       "      <td>NaN</td>\n",
       "      <td>NaN</td>\n",
       "      <td>Gar2</td>\n",
       "      <td>12500</td>\n",
       "      <td>6</td>\n",
       "      <td>2010</td>\n",
       "      <td>WD</td>\n",
       "      <td>Normal</td>\n",
       "      <td>172000</td>\n",
       "    </tr>\n",
       "    <tr>\n",
       "      <th>3</th>\n",
       "      <td>4</td>\n",
       "      <td>526353030</td>\n",
       "      <td>20</td>\n",
       "      <td>RL</td>\n",
       "      <td>93.0</td>\n",
       "      <td>11160</td>\n",
       "      <td>Pave</td>\n",
       "      <td>NaN</td>\n",
       "      <td>Reg</td>\n",
       "      <td>Lvl</td>\n",
       "      <td>...</td>\n",
       "      <td>0</td>\n",
       "      <td>NaN</td>\n",
       "      <td>NaN</td>\n",
       "      <td>NaN</td>\n",
       "      <td>0</td>\n",
       "      <td>4</td>\n",
       "      <td>2010</td>\n",
       "      <td>WD</td>\n",
       "      <td>Normal</td>\n",
       "      <td>244000</td>\n",
       "    </tr>\n",
       "    <tr>\n",
       "      <th>4</th>\n",
       "      <td>5</td>\n",
       "      <td>527105010</td>\n",
       "      <td>60</td>\n",
       "      <td>RL</td>\n",
       "      <td>74.0</td>\n",
       "      <td>13830</td>\n",
       "      <td>Pave</td>\n",
       "      <td>NaN</td>\n",
       "      <td>IR1</td>\n",
       "      <td>Lvl</td>\n",
       "      <td>...</td>\n",
       "      <td>0</td>\n",
       "      <td>NaN</td>\n",
       "      <td>MnPrv</td>\n",
       "      <td>NaN</td>\n",
       "      <td>0</td>\n",
       "      <td>3</td>\n",
       "      <td>2010</td>\n",
       "      <td>WD</td>\n",
       "      <td>Normal</td>\n",
       "      <td>189900</td>\n",
       "    </tr>\n",
       "  </tbody>\n",
       "</table>\n",
       "<p>5 rows × 82 columns</p>\n",
       "</div>"
      ],
      "text/plain": [
       "   Order        PID  MS SubClass MS Zoning  Lot Frontage  Lot Area Street  \\\n",
       "0      1  526301100           20        RL         141.0     31770   Pave   \n",
       "1      2  526350040           20        RH          80.0     11622   Pave   \n",
       "2      3  526351010           20        RL          81.0     14267   Pave   \n",
       "3      4  526353030           20        RL          93.0     11160   Pave   \n",
       "4      5  527105010           60        RL          74.0     13830   Pave   \n",
       "\n",
       "  Alley Lot Shape Land Contour  ... Pool Area Pool QC  Fence Misc Feature  \\\n",
       "0   NaN       IR1          Lvl  ...         0     NaN    NaN          NaN   \n",
       "1   NaN       Reg          Lvl  ...         0     NaN  MnPrv          NaN   \n",
       "2   NaN       IR1          Lvl  ...         0     NaN    NaN         Gar2   \n",
       "3   NaN       Reg          Lvl  ...         0     NaN    NaN          NaN   \n",
       "4   NaN       IR1          Lvl  ...         0     NaN  MnPrv          NaN   \n",
       "\n",
       "  Misc Val Mo Sold Yr Sold Sale Type  Sale Condition  SalePrice  \n",
       "0        0       5    2010       WD           Normal     215000  \n",
       "1        0       6    2010       WD           Normal     105000  \n",
       "2    12500       6    2010       WD           Normal     172000  \n",
       "3        0       4    2010       WD           Normal     244000  \n",
       "4        0       3    2010       WD           Normal     189900  \n",
       "\n",
       "[5 rows x 82 columns]"
      ]
     },
     "execution_count": 3,
     "metadata": {},
     "output_type": "execute_result"
    }
   ],
   "source": [
    "df = pd.read_csv('/kaggle/input/ames-housing-dataset/AmesHousing.csv')\n",
    "df.head()"
   ]
  },
  {
   "cell_type": "code",
   "execution_count": 4,
   "id": "c9fd6503",
   "metadata": {
    "execution": {
     "iopub.execute_input": "2025-08-04T09:46:10.016049Z",
     "iopub.status.busy": "2025-08-04T09:46:10.015755Z",
     "iopub.status.idle": "2025-08-04T09:46:10.023235Z",
     "shell.execute_reply": "2025-08-04T09:46:10.022454Z"
    },
    "papermill": {
     "duration": 0.014862,
     "end_time": "2025-08-04T09:46:10.024742",
     "exception": false,
     "start_time": "2025-08-04T09:46:10.009880",
     "status": "completed"
    },
    "tags": []
   },
   "outputs": [
    {
     "data": {
      "text/plain": [
       "Index(['Order', 'PID', 'MS SubClass', 'MS Zoning', 'Lot Frontage', 'Lot Area',\n",
       "       'Street', 'Alley', 'Lot Shape', 'Land Contour', 'Utilities',\n",
       "       'Lot Config', 'Land Slope', 'Neighborhood', 'Condition 1',\n",
       "       'Condition 2', 'Bldg Type', 'House Style', 'Overall Qual',\n",
       "       'Overall Cond', 'Year Built', 'Year Remod/Add', 'Roof Style',\n",
       "       'Roof Matl', 'Exterior 1st', 'Exterior 2nd', 'Mas Vnr Type',\n",
       "       'Mas Vnr Area', 'Exter Qual', 'Exter Cond', 'Foundation', 'Bsmt Qual',\n",
       "       'Bsmt Cond', 'Bsmt Exposure', 'BsmtFin Type 1', 'BsmtFin SF 1',\n",
       "       'BsmtFin Type 2', 'BsmtFin SF 2', 'Bsmt Unf SF', 'Total Bsmt SF',\n",
       "       'Heating', 'Heating QC', 'Central Air', 'Electrical', '1st Flr SF',\n",
       "       '2nd Flr SF', 'Low Qual Fin SF', 'Gr Liv Area', 'Bsmt Full Bath',\n",
       "       'Bsmt Half Bath', 'Full Bath', 'Half Bath', 'Bedroom AbvGr',\n",
       "       'Kitchen AbvGr', 'Kitchen Qual', 'TotRms AbvGrd', 'Functional',\n",
       "       'Fireplaces', 'Fireplace Qu', 'Garage Type', 'Garage Yr Blt',\n",
       "       'Garage Finish', 'Garage Cars', 'Garage Area', 'Garage Qual',\n",
       "       'Garage Cond', 'Paved Drive', 'Wood Deck SF', 'Open Porch SF',\n",
       "       'Enclosed Porch', '3Ssn Porch', 'Screen Porch', 'Pool Area', 'Pool QC',\n",
       "       'Fence', 'Misc Feature', 'Misc Val', 'Mo Sold', 'Yr Sold', 'Sale Type',\n",
       "       'Sale Condition', 'SalePrice'],\n",
       "      dtype='object')"
      ]
     },
     "execution_count": 4,
     "metadata": {},
     "output_type": "execute_result"
    }
   ],
   "source": [
    "df.columns"
   ]
  },
  {
   "cell_type": "code",
   "execution_count": 5,
   "id": "fbe2181d",
   "metadata": {
    "execution": {
     "iopub.execute_input": "2025-08-04T09:46:10.035961Z",
     "iopub.status.busy": "2025-08-04T09:46:10.035658Z",
     "iopub.status.idle": "2025-08-04T09:46:10.050818Z",
     "shell.execute_reply": "2025-08-04T09:46:10.049997Z"
    },
    "papermill": {
     "duration": 0.022424,
     "end_time": "2025-08-04T09:46:10.052232",
     "exception": false,
     "start_time": "2025-08-04T09:46:10.029808",
     "status": "completed"
    },
    "tags": []
   },
   "outputs": [
    {
     "data": {
      "text/plain": [
       "Order               0\n",
       "PID                 0\n",
       "MS SubClass         0\n",
       "MS Zoning           0\n",
       "Lot Frontage      490\n",
       "                 ... \n",
       "Mo Sold             0\n",
       "Yr Sold             0\n",
       "Sale Type           0\n",
       "Sale Condition      0\n",
       "SalePrice           0\n",
       "Length: 82, dtype: int64"
      ]
     },
     "execution_count": 5,
     "metadata": {},
     "output_type": "execute_result"
    }
   ],
   "source": [
    "df.isnull().sum()"
   ]
  },
  {
   "cell_type": "code",
   "execution_count": 6,
   "id": "ff2aa7f2",
   "metadata": {
    "execution": {
     "iopub.execute_input": "2025-08-04T09:46:10.063847Z",
     "iopub.status.busy": "2025-08-04T09:46:10.063081Z",
     "iopub.status.idle": "2025-08-04T09:46:10.092369Z",
     "shell.execute_reply": "2025-08-04T09:46:10.091497Z"
    },
    "papermill": {
     "duration": 0.03675,
     "end_time": "2025-08-04T09:46:10.094136",
     "exception": false,
     "start_time": "2025-08-04T09:46:10.057386",
     "status": "completed"
    },
    "tags": []
   },
   "outputs": [
    {
     "name": "stdout",
     "output_type": "stream",
     "text": [
      "<class 'pandas.core.frame.DataFrame'>\n",
      "RangeIndex: 2930 entries, 0 to 2929\n",
      "Data columns (total 82 columns):\n",
      " #   Column           Non-Null Count  Dtype  \n",
      "---  ------           --------------  -----  \n",
      " 0   Order            2930 non-null   int64  \n",
      " 1   PID              2930 non-null   int64  \n",
      " 2   MS SubClass      2930 non-null   int64  \n",
      " 3   MS Zoning        2930 non-null   object \n",
      " 4   Lot Frontage     2440 non-null   float64\n",
      " 5   Lot Area         2930 non-null   int64  \n",
      " 6   Street           2930 non-null   object \n",
      " 7   Alley            198 non-null    object \n",
      " 8   Lot Shape        2930 non-null   object \n",
      " 9   Land Contour     2930 non-null   object \n",
      " 10  Utilities        2930 non-null   object \n",
      " 11  Lot Config       2930 non-null   object \n",
      " 12  Land Slope       2930 non-null   object \n",
      " 13  Neighborhood     2930 non-null   object \n",
      " 14  Condition 1      2930 non-null   object \n",
      " 15  Condition 2      2930 non-null   object \n",
      " 16  Bldg Type        2930 non-null   object \n",
      " 17  House Style      2930 non-null   object \n",
      " 18  Overall Qual     2930 non-null   int64  \n",
      " 19  Overall Cond     2930 non-null   int64  \n",
      " 20  Year Built       2930 non-null   int64  \n",
      " 21  Year Remod/Add   2930 non-null   int64  \n",
      " 22  Roof Style       2930 non-null   object \n",
      " 23  Roof Matl        2930 non-null   object \n",
      " 24  Exterior 1st     2930 non-null   object \n",
      " 25  Exterior 2nd     2930 non-null   object \n",
      " 26  Mas Vnr Type     1155 non-null   object \n",
      " 27  Mas Vnr Area     2907 non-null   float64\n",
      " 28  Exter Qual       2930 non-null   object \n",
      " 29  Exter Cond       2930 non-null   object \n",
      " 30  Foundation       2930 non-null   object \n",
      " 31  Bsmt Qual        2850 non-null   object \n",
      " 32  Bsmt Cond        2850 non-null   object \n",
      " 33  Bsmt Exposure    2847 non-null   object \n",
      " 34  BsmtFin Type 1   2850 non-null   object \n",
      " 35  BsmtFin SF 1     2929 non-null   float64\n",
      " 36  BsmtFin Type 2   2849 non-null   object \n",
      " 37  BsmtFin SF 2     2929 non-null   float64\n",
      " 38  Bsmt Unf SF      2929 non-null   float64\n",
      " 39  Total Bsmt SF    2929 non-null   float64\n",
      " 40  Heating          2930 non-null   object \n",
      " 41  Heating QC       2930 non-null   object \n",
      " 42  Central Air      2930 non-null   object \n",
      " 43  Electrical       2929 non-null   object \n",
      " 44  1st Flr SF       2930 non-null   int64  \n",
      " 45  2nd Flr SF       2930 non-null   int64  \n",
      " 46  Low Qual Fin SF  2930 non-null   int64  \n",
      " 47  Gr Liv Area      2930 non-null   int64  \n",
      " 48  Bsmt Full Bath   2928 non-null   float64\n",
      " 49  Bsmt Half Bath   2928 non-null   float64\n",
      " 50  Full Bath        2930 non-null   int64  \n",
      " 51  Half Bath        2930 non-null   int64  \n",
      " 52  Bedroom AbvGr    2930 non-null   int64  \n",
      " 53  Kitchen AbvGr    2930 non-null   int64  \n",
      " 54  Kitchen Qual     2930 non-null   object \n",
      " 55  TotRms AbvGrd    2930 non-null   int64  \n",
      " 56  Functional       2930 non-null   object \n",
      " 57  Fireplaces       2930 non-null   int64  \n",
      " 58  Fireplace Qu     1508 non-null   object \n",
      " 59  Garage Type      2773 non-null   object \n",
      " 60  Garage Yr Blt    2771 non-null   float64\n",
      " 61  Garage Finish    2771 non-null   object \n",
      " 62  Garage Cars      2929 non-null   float64\n",
      " 63  Garage Area      2929 non-null   float64\n",
      " 64  Garage Qual      2771 non-null   object \n",
      " 65  Garage Cond      2771 non-null   object \n",
      " 66  Paved Drive      2930 non-null   object \n",
      " 67  Wood Deck SF     2930 non-null   int64  \n",
      " 68  Open Porch SF    2930 non-null   int64  \n",
      " 69  Enclosed Porch   2930 non-null   int64  \n",
      " 70  3Ssn Porch       2930 non-null   int64  \n",
      " 71  Screen Porch     2930 non-null   int64  \n",
      " 72  Pool Area        2930 non-null   int64  \n",
      " 73  Pool QC          13 non-null     object \n",
      " 74  Fence            572 non-null    object \n",
      " 75  Misc Feature     106 non-null    object \n",
      " 76  Misc Val         2930 non-null   int64  \n",
      " 77  Mo Sold          2930 non-null   int64  \n",
      " 78  Yr Sold          2930 non-null   int64  \n",
      " 79  Sale Type        2930 non-null   object \n",
      " 80  Sale Condition   2930 non-null   object \n",
      " 81  SalePrice        2930 non-null   int64  \n",
      "dtypes: float64(11), int64(28), object(43)\n",
      "memory usage: 1.8+ MB\n"
     ]
    }
   ],
   "source": [
    "df.info()"
   ]
  },
  {
   "cell_type": "code",
   "execution_count": 7,
   "id": "9c239a31",
   "metadata": {
    "execution": {
     "iopub.execute_input": "2025-08-04T09:46:10.106029Z",
     "iopub.status.busy": "2025-08-04T09:46:10.105275Z",
     "iopub.status.idle": "2025-08-04T09:46:10.110533Z",
     "shell.execute_reply": "2025-08-04T09:46:10.109810Z"
    },
    "papermill": {
     "duration": 0.012291,
     "end_time": "2025-08-04T09:46:10.111739",
     "exception": false,
     "start_time": "2025-08-04T09:46:10.099448",
     "status": "completed"
    },
    "tags": []
   },
   "outputs": [
    {
     "data": {
      "text/plain": [
       "(2930, 82)"
      ]
     },
     "execution_count": 7,
     "metadata": {},
     "output_type": "execute_result"
    }
   ],
   "source": [
    "df.shape"
   ]
  },
  {
   "cell_type": "code",
   "execution_count": 8,
   "id": "073c1c94",
   "metadata": {
    "execution": {
     "iopub.execute_input": "2025-08-04T09:46:10.123979Z",
     "iopub.status.busy": "2025-08-04T09:46:10.123660Z",
     "iopub.status.idle": "2025-08-04T09:46:10.150152Z",
     "shell.execute_reply": "2025-08-04T09:46:10.149235Z"
    },
    "papermill": {
     "duration": 0.034249,
     "end_time": "2025-08-04T09:46:10.151859",
     "exception": false,
     "start_time": "2025-08-04T09:46:10.117610",
     "status": "completed"
    },
    "tags": []
   },
   "outputs": [],
   "source": [
    "num_cols = df.select_dtypes(include = ['int64','float64']).columns\n",
    "input_number = SimpleImputer(strategy = 'median')\n",
    "df[num_cols] = input_number.fit_transform(df[num_cols])"
   ]
  },
  {
   "cell_type": "code",
   "execution_count": 9,
   "id": "3f7b8bf3",
   "metadata": {
    "execution": {
     "iopub.execute_input": "2025-08-04T09:46:10.163933Z",
     "iopub.status.busy": "2025-08-04T09:46:10.163308Z",
     "iopub.status.idle": "2025-08-04T09:46:10.194670Z",
     "shell.execute_reply": "2025-08-04T09:46:10.193858Z"
    },
    "papermill": {
     "duration": 0.039011,
     "end_time": "2025-08-04T09:46:10.196274",
     "exception": false,
     "start_time": "2025-08-04T09:46:10.157263",
     "status": "completed"
    },
    "tags": []
   },
   "outputs": [],
   "source": [
    "cats_cols = df.select_dtypes(include = 'object').columns\n",
    "imputer_cats = SimpleImputer(strategy = 'most_frequent')\n",
    "df[cats_cols] = imputer_cats.fit_transform(df[cats_cols])"
   ]
  },
  {
   "cell_type": "code",
   "execution_count": 10,
   "id": "9b8f0673",
   "metadata": {
    "execution": {
     "iopub.execute_input": "2025-08-04T09:46:10.208438Z",
     "iopub.status.busy": "2025-08-04T09:46:10.207779Z",
     "iopub.status.idle": "2025-08-04T09:46:10.225699Z",
     "shell.execute_reply": "2025-08-04T09:46:10.224858Z"
    },
    "papermill": {
     "duration": 0.025568,
     "end_time": "2025-08-04T09:46:10.227132",
     "exception": false,
     "start_time": "2025-08-04T09:46:10.201564",
     "status": "completed"
    },
    "tags": []
   },
   "outputs": [],
   "source": [
    "df['SalePrice'] = np.log1p(df['SalePrice'])"
   ]
  },
  {
   "cell_type": "code",
   "execution_count": 11,
   "id": "3aad8bae",
   "metadata": {
    "execution": {
     "iopub.execute_input": "2025-08-04T09:46:10.238707Z",
     "iopub.status.busy": "2025-08-04T09:46:10.238382Z",
     "iopub.status.idle": "2025-08-04T09:46:10.297402Z",
     "shell.execute_reply": "2025-08-04T09:46:10.296536Z"
    },
    "papermill": {
     "duration": 0.06635,
     "end_time": "2025-08-04T09:46:10.298797",
     "exception": false,
     "start_time": "2025-08-04T09:46:10.232447",
     "status": "completed"
    },
    "tags": []
   },
   "outputs": [
    {
     "data": {
      "text/html": [
       "<div>\n",
       "<style scoped>\n",
       "    .dataframe tbody tr th:only-of-type {\n",
       "        vertical-align: middle;\n",
       "    }\n",
       "\n",
       "    .dataframe tbody tr th {\n",
       "        vertical-align: top;\n",
       "    }\n",
       "\n",
       "    .dataframe thead th {\n",
       "        text-align: right;\n",
       "    }\n",
       "</style>\n",
       "<table border=\"1\" class=\"dataframe\">\n",
       "  <thead>\n",
       "    <tr style=\"text-align: right;\">\n",
       "      <th></th>\n",
       "      <th>Order</th>\n",
       "      <th>PID</th>\n",
       "      <th>MS SubClass</th>\n",
       "      <th>Lot Frontage</th>\n",
       "      <th>Lot Area</th>\n",
       "      <th>Overall Qual</th>\n",
       "      <th>Overall Cond</th>\n",
       "      <th>Year Built</th>\n",
       "      <th>Year Remod/Add</th>\n",
       "      <th>Mas Vnr Area</th>\n",
       "      <th>...</th>\n",
       "      <th>Sale Type_ConLw</th>\n",
       "      <th>Sale Type_New</th>\n",
       "      <th>Sale Type_Oth</th>\n",
       "      <th>Sale Type_VWD</th>\n",
       "      <th>Sale Type_WD</th>\n",
       "      <th>Sale Condition_AdjLand</th>\n",
       "      <th>Sale Condition_Alloca</th>\n",
       "      <th>Sale Condition_Family</th>\n",
       "      <th>Sale Condition_Normal</th>\n",
       "      <th>Sale Condition_Partial</th>\n",
       "    </tr>\n",
       "  </thead>\n",
       "  <tbody>\n",
       "    <tr>\n",
       "      <th>0</th>\n",
       "      <td>1.0</td>\n",
       "      <td>526301100.0</td>\n",
       "      <td>20.0</td>\n",
       "      <td>141.0</td>\n",
       "      <td>31770.0</td>\n",
       "      <td>6.0</td>\n",
       "      <td>5.0</td>\n",
       "      <td>1960.0</td>\n",
       "      <td>1960.0</td>\n",
       "      <td>112.0</td>\n",
       "      <td>...</td>\n",
       "      <td>False</td>\n",
       "      <td>False</td>\n",
       "      <td>False</td>\n",
       "      <td>False</td>\n",
       "      <td>True</td>\n",
       "      <td>False</td>\n",
       "      <td>False</td>\n",
       "      <td>False</td>\n",
       "      <td>True</td>\n",
       "      <td>False</td>\n",
       "    </tr>\n",
       "    <tr>\n",
       "      <th>1</th>\n",
       "      <td>2.0</td>\n",
       "      <td>526350040.0</td>\n",
       "      <td>20.0</td>\n",
       "      <td>80.0</td>\n",
       "      <td>11622.0</td>\n",
       "      <td>5.0</td>\n",
       "      <td>6.0</td>\n",
       "      <td>1961.0</td>\n",
       "      <td>1961.0</td>\n",
       "      <td>0.0</td>\n",
       "      <td>...</td>\n",
       "      <td>False</td>\n",
       "      <td>False</td>\n",
       "      <td>False</td>\n",
       "      <td>False</td>\n",
       "      <td>True</td>\n",
       "      <td>False</td>\n",
       "      <td>False</td>\n",
       "      <td>False</td>\n",
       "      <td>True</td>\n",
       "      <td>False</td>\n",
       "    </tr>\n",
       "    <tr>\n",
       "      <th>2</th>\n",
       "      <td>3.0</td>\n",
       "      <td>526351010.0</td>\n",
       "      <td>20.0</td>\n",
       "      <td>81.0</td>\n",
       "      <td>14267.0</td>\n",
       "      <td>6.0</td>\n",
       "      <td>6.0</td>\n",
       "      <td>1958.0</td>\n",
       "      <td>1958.0</td>\n",
       "      <td>108.0</td>\n",
       "      <td>...</td>\n",
       "      <td>False</td>\n",
       "      <td>False</td>\n",
       "      <td>False</td>\n",
       "      <td>False</td>\n",
       "      <td>True</td>\n",
       "      <td>False</td>\n",
       "      <td>False</td>\n",
       "      <td>False</td>\n",
       "      <td>True</td>\n",
       "      <td>False</td>\n",
       "    </tr>\n",
       "    <tr>\n",
       "      <th>3</th>\n",
       "      <td>4.0</td>\n",
       "      <td>526353030.0</td>\n",
       "      <td>20.0</td>\n",
       "      <td>93.0</td>\n",
       "      <td>11160.0</td>\n",
       "      <td>7.0</td>\n",
       "      <td>5.0</td>\n",
       "      <td>1968.0</td>\n",
       "      <td>1968.0</td>\n",
       "      <td>0.0</td>\n",
       "      <td>...</td>\n",
       "      <td>False</td>\n",
       "      <td>False</td>\n",
       "      <td>False</td>\n",
       "      <td>False</td>\n",
       "      <td>True</td>\n",
       "      <td>False</td>\n",
       "      <td>False</td>\n",
       "      <td>False</td>\n",
       "      <td>True</td>\n",
       "      <td>False</td>\n",
       "    </tr>\n",
       "    <tr>\n",
       "      <th>4</th>\n",
       "      <td>5.0</td>\n",
       "      <td>527105010.0</td>\n",
       "      <td>60.0</td>\n",
       "      <td>74.0</td>\n",
       "      <td>13830.0</td>\n",
       "      <td>5.0</td>\n",
       "      <td>5.0</td>\n",
       "      <td>1997.0</td>\n",
       "      <td>1998.0</td>\n",
       "      <td>0.0</td>\n",
       "      <td>...</td>\n",
       "      <td>False</td>\n",
       "      <td>False</td>\n",
       "      <td>False</td>\n",
       "      <td>False</td>\n",
       "      <td>True</td>\n",
       "      <td>False</td>\n",
       "      <td>False</td>\n",
       "      <td>False</td>\n",
       "      <td>True</td>\n",
       "      <td>False</td>\n",
       "    </tr>\n",
       "  </tbody>\n",
       "</table>\n",
       "<p>5 rows × 263 columns</p>\n",
       "</div>"
      ],
      "text/plain": [
       "   Order          PID  MS SubClass  Lot Frontage  Lot Area  Overall Qual  \\\n",
       "0    1.0  526301100.0         20.0         141.0   31770.0           6.0   \n",
       "1    2.0  526350040.0         20.0          80.0   11622.0           5.0   \n",
       "2    3.0  526351010.0         20.0          81.0   14267.0           6.0   \n",
       "3    4.0  526353030.0         20.0          93.0   11160.0           7.0   \n",
       "4    5.0  527105010.0         60.0          74.0   13830.0           5.0   \n",
       "\n",
       "   Overall Cond  Year Built  Year Remod/Add  Mas Vnr Area  ...  \\\n",
       "0           5.0      1960.0          1960.0         112.0  ...   \n",
       "1           6.0      1961.0          1961.0           0.0  ...   \n",
       "2           6.0      1958.0          1958.0         108.0  ...   \n",
       "3           5.0      1968.0          1968.0           0.0  ...   \n",
       "4           5.0      1997.0          1998.0           0.0  ...   \n",
       "\n",
       "   Sale Type_ConLw  Sale Type_New  Sale Type_Oth  Sale Type_VWD  \\\n",
       "0            False          False          False          False   \n",
       "1            False          False          False          False   \n",
       "2            False          False          False          False   \n",
       "3            False          False          False          False   \n",
       "4            False          False          False          False   \n",
       "\n",
       "   Sale Type_WD   Sale Condition_AdjLand  Sale Condition_Alloca  \\\n",
       "0           True                   False                  False   \n",
       "1           True                   False                  False   \n",
       "2           True                   False                  False   \n",
       "3           True                   False                  False   \n",
       "4           True                   False                  False   \n",
       "\n",
       "   Sale Condition_Family  Sale Condition_Normal  Sale Condition_Partial  \n",
       "0                  False                   True                   False  \n",
       "1                  False                   True                   False  \n",
       "2                  False                   True                   False  \n",
       "3                  False                   True                   False  \n",
       "4                  False                   True                   False  \n",
       "\n",
       "[5 rows x 263 columns]"
      ]
     },
     "execution_count": 11,
     "metadata": {},
     "output_type": "execute_result"
    }
   ],
   "source": [
    "df = pd.get_dummies(df, drop_first = True)\n",
    "df.head()"
   ]
  },
  {
   "cell_type": "code",
   "execution_count": 12,
   "id": "05091e45",
   "metadata": {
    "execution": {
     "iopub.execute_input": "2025-08-04T09:46:10.311161Z",
     "iopub.status.busy": "2025-08-04T09:46:10.310555Z",
     "iopub.status.idle": "2025-08-04T09:46:11.929987Z",
     "shell.execute_reply": "2025-08-04T09:46:11.929083Z"
    },
    "papermill": {
     "duration": 1.629999,
     "end_time": "2025-08-04T09:46:11.934310",
     "exception": false,
     "start_time": "2025-08-04T09:46:10.304311",
     "status": "completed"
    },
    "tags": []
   },
   "outputs": [
    {
     "data": {
      "image/png": "[encoded data removed]",
      "text/plain": [
       "<Figure size 1200x800 with 2 Axes>"
      ]
     },
     "metadata": {},
     "output_type": "display_data"
    }
   ],
   "source": [
    "correleation = df.corr(numeric_only = True)\n",
    "\n",
    "plt.figure(figsize = (12,8))\n",
    "\n",
    "sns.heatmap(correleation[['SalePrice']].sort_values(by = 'SalePrice',ascending = False),annot = True,cmap = 'coolwarm')\n",
    "\n",
    "plt.title('correlation with saleprice')\n",
    "plt.show()"
   ]
  },
  {
   "cell_type": "code",
   "execution_count": 13,
   "id": "3201941a",
   "metadata": {
    "execution": {
     "iopub.execute_input": "2025-08-04T09:46:11.952630Z",
     "iopub.status.busy": "2025-08-04T09:46:11.952220Z",
     "iopub.status.idle": "2025-08-04T09:46:11.959297Z",
     "shell.execute_reply": "2025-08-04T09:46:11.958650Z"
    },
    "papermill": {
     "duration": 0.017503,
     "end_time": "2025-08-04T09:46:11.960619",
     "exception": false,
     "start_time": "2025-08-04T09:46:11.943116",
     "status": "completed"
    },
    "tags": []
   },
   "outputs": [],
   "source": [
    "X = df.drop('SalePrice',axis = 1)\n",
    "y = df['SalePrice']"
   ]
  },
  {
   "cell_type": "code",
   "execution_count": 14,
   "id": "e136d4f4",
   "metadata": {
    "execution": {
     "iopub.execute_input": "2025-08-04T09:46:11.978475Z",
     "iopub.status.busy": "2025-08-04T09:46:11.978175Z",
     "iopub.status.idle": "2025-08-04T09:46:11.987770Z",
     "shell.execute_reply": "2025-08-04T09:46:11.987048Z"
    },
    "papermill": {
     "duration": 0.020022,
     "end_time": "2025-08-04T09:46:11.989128",
     "exception": false,
     "start_time": "2025-08-04T09:46:11.969106",
     "status": "completed"
    },
    "tags": []
   },
   "outputs": [],
   "source": [
    "X_train,X_test,y_train,y_test = train_test_split(X,y,test_size = 0.2,random_state = 42)"
   ]
  },
  {
   "cell_type": "code",
   "execution_count": 15,
   "id": "415196ba",
   "metadata": {
    "execution": {
     "iopub.execute_input": "2025-08-04T09:46:12.007062Z",
     "iopub.status.busy": "2025-08-04T09:46:12.006782Z",
     "iopub.status.idle": "2025-08-04T09:46:12.010574Z",
     "shell.execute_reply": "2025-08-04T09:46:12.009906Z"
    },
    "papermill": {
     "duration": 0.014244,
     "end_time": "2025-08-04T09:46:12.011935",
     "exception": false,
     "start_time": "2025-08-04T09:46:11.997691",
     "status": "completed"
    },
    "tags": []
   },
   "outputs": [],
   "source": [
    "model = RandomForestRegressor(n_estimators = 100,random_state = 42)"
   ]
  },
  {
   "cell_type": "code",
   "execution_count": 16,
   "id": "87ae4574",
   "metadata": {
    "execution": {
     "iopub.execute_input": "2025-08-04T09:46:12.030165Z",
     "iopub.status.busy": "2025-08-04T09:46:12.029878Z",
     "iopub.status.idle": "2025-08-04T09:46:17.846583Z",
     "shell.execute_reply": "2025-08-04T09:46:17.845687Z"
    },
    "papermill": {
     "duration": 5.827586,
     "end_time": "2025-08-04T09:46:17.848098",
     "exception": false,
     "start_time": "2025-08-04T09:46:12.020512",
     "status": "completed"
    },
    "tags": []
   },
   "outputs": [
    {
     "data": {
      "text/html": [
       "<style>#sk-container-id-1 {color: black;background-color: white;}#sk-container-id-1 pre{padding: 0;}#sk-container-id-1 div.sk-toggleable {background-color: white;}#sk-container-id-1 label.sk-toggleable__label {cursor: pointer;display: block;width: 100%;margin-bottom: 0;padding: 0.3em;box-sizing: border-box;text-align: center;}#sk-container-id-1 label.sk-toggleable__label-arrow:before {content: \"▸\";float: left;margin-right: 0.25em;color: #696969;}#sk-container-id-1 label.sk-toggleable__label-arrow:hover:before {color: black;}#sk-container-id-1 div.sk-estimator:hover label.sk-toggleable__label-arrow:before {color: black;}#sk-container-id-1 div.sk-toggleable__content {max-height: 0;max-width: 0;overflow: hidden;text-align: left;background-color: #f0f8ff;}#sk-container-id-1 div.sk-toggleable__content pre {margin: 0.2em;color: black;border-radius: 0.25em;background-color: #f0f8ff;}#sk-container-id-1 input.sk-toggleable__control:checked~div.sk-toggleable__content {max-height: 200px;max-width: 100%;overflow: auto;}#sk-container-id-1 input.sk-toggleable__control:checked~label.sk-toggleable__label-arrow:before {content: \"▾\";}#sk-container-id-1 div.sk-estimator input.sk-toggleable__control:checked~label.sk-toggleable__label {background-color: #d4ebff;}#sk-container-id-1 div.sk-label input.sk-toggleable__control:checked~label.sk-toggleable__label {background-color: #d4ebff;}#sk-container-id-1 input.sk-hidden--visually {border: 0;clip: rect(1px 1px 1px 1px);clip: rect(1px, 1px, 1px, 1px);height: 1px;margin: -1px;overflow: hidden;padding: 0;position: absolute;width: 1px;}#sk-container-id-1 div.sk-estimator {font-family: monospace;background-color: #f0f8ff;border: 1px dotted black;border-radius: 0.25em;box-sizing: border-box;margin-bottom: 0.5em;}#sk-container-id-1 div.sk-estimator:hover {background-color: #d4ebff;}#sk-container-id-1 div.sk-parallel-item::after {content: \"\";width: 100%;border-bottom: 1px solid gray;flex-grow: 1;}#sk-container-id-1 div.sk-label:hover label.sk-toggleable__label {background-color: #d4ebff;}#sk-container-id-1 div.sk-serial::before {content: \"\";position: absolute;border-left: 1px solid gray;box-sizing: border-box;top: 0;bottom: 0;left: 50%;z-index: 0;}#sk-container-id-1 div.sk-serial {display: flex;flex-direction: column;align-items: center;background-color: white;padding-right: 0.2em;padding-left: 0.2em;position: relative;}#sk-container-id-1 div.sk-item {position: relative;z-index: 1;}#sk-container-id-1 div.sk-parallel {display: flex;align-items: stretch;justify-content: center;background-color: white;position: relative;}#sk-container-id-1 div.sk-item::before, #sk-container-id-1 div.sk-parallel-item::before {content: \"\";position: absolute;border-left: 1px solid gray;box-sizing: border-box;top: 0;bottom: 0;left: 50%;z-index: -1;}#sk-container-id-1 div.sk-parallel-item {display: flex;flex-direction: column;z-index: 1;position: relative;background-color: white;}#sk-container-id-1 div.sk-parallel-item:first-child::after {align-self: flex-end;width: 50%;}#sk-container-id-1 div.sk-parallel-item:last-child::after {align-self: flex-start;width: 50%;}#sk-container-id-1 div.sk-parallel-item:only-child::after {width: 0;}#sk-container-id-1 div.sk-dashed-wrapped {border: 1px dashed gray;margin: 0 0.4em 0.5em 0.4em;box-sizing: border-box;padding-bottom: 0.4em;background-color: white;}#sk-container-id-1 div.sk-label label {font-family: monospace;font-weight: bold;display: inline-block;line-height: 1.2em;}#sk-container-id-1 div.sk-label-container {text-align: center;}#sk-container-id-1 div.sk-container {/* jupyter's `normalize.less` sets `[hidden] { display: none; }` but bootstrap.min.css set `[hidden] { display: none !important; }` so we also need the `!important` here to be able to override the default hidden behavior on the sphinx rendered scikit-learn.org. See: https://github.com/scikit-learn/scikit-learn/issues/21755 */display: inline-block !important;position: relative;}#sk-container-id-1 div.sk-text-repr-fallback {display: none;}</style><div id=\"sk-container-id-1\" class=\"sk-top-container\"><div class=\"sk-text-repr-fallback\"><pre>RandomForestRegressor(random_state=42)</pre><b>In a Jupyter environment, please rerun this cell to show the HTML representation or trust the notebook. <br />On GitHub, the HTML representation is unable to render, please try loading this page with nbviewer.org.</b></div><div class=\"sk-container\" hidden><div class=\"sk-item\"><div class=\"sk-estimator sk-toggleable\"><input class=\"sk-toggleable__control sk-hidden--visually\" id=\"sk-estimator-id-1\" type=\"checkbox\" checked><label for=\"sk-estimator-id-1\" class=\"sk-toggleable__label sk-toggleable__label-arrow\">RandomForestRegressor</label><div class=\"sk-toggleable__content\"><pre>RandomForestRegressor(random_state=42)</pre></div></div></div></div></div>"
      ],
      "text/plain": [
       "RandomForestRegressor(random_state=42)"
      ]
     },
     "execution_count": 16,
     "metadata": {},
     "output_type": "execute_result"
    }
   ],
   "source": [
    "model.fit(X_train,y_train)"
   ]
  },
  {
   "cell_type": "code",
   "execution_count": 17,
   "id": "a6c47190",
   "metadata": {
    "execution": {
     "iopub.execute_input": "2025-08-04T09:46:17.868875Z",
     "iopub.status.busy": "2025-08-04T09:46:17.868587Z",
     "iopub.status.idle": "2025-08-04T09:46:17.896845Z",
     "shell.execute_reply": "2025-08-04T09:46:17.896074Z"
    },
    "papermill": {
     "duration": 0.040609,
     "end_time": "2025-08-04T09:46:17.898329",
     "exception": false,
     "start_time": "2025-08-04T09:46:17.857720",
     "status": "completed"
    },
    "tags": []
   },
   "outputs": [],
   "source": [
    "y_pred_log  = model.predict(X_test)\n"
   ]
  },
  {
   "cell_type": "code",
   "execution_count": 18,
   "id": "3b557bf3",
   "metadata": {
    "execution": {
     "iopub.execute_input": "2025-08-04T09:46:17.917434Z",
     "iopub.status.busy": "2025-08-04T09:46:17.916862Z",
     "iopub.status.idle": "2025-08-04T09:46:17.922609Z",
     "shell.execute_reply": "2025-08-04T09:46:17.921801Z"
    },
    "papermill": {
     "duration": 0.016759,
     "end_time": "2025-08-04T09:46:17.923983",
     "exception": false,
     "start_time": "2025-08-04T09:46:17.907224",
     "status": "completed"
    },
    "tags": []
   },
   "outputs": [],
   "source": [
    "rmse_log = np.sqrt(mean_squared_error(y_test, y_pred_log ))\n",
    "r2_log = r2_score(y_test, y_pred_log )"
   ]
  },
  {
   "cell_type": "code",
   "execution_count": 19,
   "id": "66f79a72",
   "metadata": {
    "execution": {
     "iopub.execute_input": "2025-08-04T09:46:17.943066Z",
     "iopub.status.busy": "2025-08-04T09:46:17.942526Z",
     "iopub.status.idle": "2025-08-04T09:46:17.947603Z",
     "shell.execute_reply": "2025-08-04T09:46:17.946831Z"
    },
    "papermill": {
     "duration": 0.015965,
     "end_time": "2025-08-04T09:46:17.949011",
     "exception": false,
     "start_time": "2025-08-04T09:46:17.933046",
     "status": "completed"
    },
    "tags": []
   },
   "outputs": [
    {
     "data": {
      "text/plain": [
       "0.12225413294014974"
      ]
     },
     "execution_count": 19,
     "metadata": {},
     "output_type": "execute_result"
    }
   ],
   "source": [
    "rmse_log"
   ]
  },
  {
   "cell_type": "code",
   "execution_count": 20,
   "id": "b7a415cd",
   "metadata": {
    "execution": {
     "iopub.execute_input": "2025-08-04T09:46:17.968209Z",
     "iopub.status.busy": "2025-08-04T09:46:17.967902Z",
     "iopub.status.idle": "2025-08-04T09:46:17.972950Z",
     "shell.execute_reply": "2025-08-04T09:46:17.972191Z"
    },
    "papermill": {
     "duration": 0.01611,
     "end_time": "2025-08-04T09:46:17.974161",
     "exception": false,
     "start_time": "2025-08-04T09:46:17.958051",
     "status": "completed"
    },
    "tags": []
   },
   "outputs": [
    {
     "data": {
      "text/plain": [
       "0.9192232015012769"
      ]
     },
     "execution_count": 20,
     "metadata": {},
     "output_type": "execute_result"
    }
   ],
   "source": [
    "r2_log"
   ]
  },
  {
   "cell_type": "code",
   "execution_count": 21,
   "id": "32f1e7a5",
   "metadata": {
    "execution": {
     "iopub.execute_input": "2025-08-04T09:46:17.993660Z",
     "iopub.status.busy": "2025-08-04T09:46:17.992974Z",
     "iopub.status.idle": "2025-08-04T09:46:17.998970Z",
     "shell.execute_reply": "2025-08-04T09:46:17.997882Z"
    },
    "papermill": {
     "duration": 0.017141,
     "end_time": "2025-08-04T09:46:18.000353",
     "exception": false,
     "start_time": "2025-08-04T09:46:17.983212",
     "status": "completed"
    },
    "tags": []
   },
   "outputs": [],
   "source": [
    "y_test_original = np.expm1(y_test)\n",
    "y_pred_original = np.expm1(y_pred_log)"
   ]
  },
  {
   "cell_type": "code",
   "execution_count": 22,
   "id": "42fe2d10",
   "metadata": {
    "execution": {
     "iopub.execute_input": "2025-08-04T09:46:18.020706Z",
     "iopub.status.busy": "2025-08-04T09:46:18.019860Z",
     "iopub.status.idle": "2025-08-04T09:46:18.026105Z",
     "shell.execute_reply": "2025-08-04T09:46:18.025253Z"
    },
    "papermill": {
     "duration": 0.018098,
     "end_time": "2025-08-04T09:46:18.027646",
     "exception": false,
     "start_time": "2025-08-04T09:46:18.009548",
     "status": "completed"
    },
    "tags": []
   },
   "outputs": [],
   "source": [
    "rmse_real = np.sqrt(mean_squared_error(y_test_original, y_pred_original))\n",
    "r2_real = r2_score(y_test_original, y_pred_original)"
   ]
  },
  {
   "cell_type": "code",
   "execution_count": 23,
   "id": "c5e1e5fb",
   "metadata": {
    "execution": {
     "iopub.execute_input": "2025-08-04T09:46:18.047313Z",
     "iopub.status.busy": "2025-08-04T09:46:18.047003Z",
     "iopub.status.idle": "2025-08-04T09:46:18.051993Z",
     "shell.execute_reply": "2025-08-04T09:46:18.051273Z"
    },
    "papermill": {
     "duration": 0.016529,
     "end_time": "2025-08-04T09:46:18.053320",
     "exception": false,
     "start_time": "2025-08-04T09:46:18.036791",
     "status": "completed"
    },
    "tags": []
   },
   "outputs": [
    {
     "data": {
      "text/plain": [
       "27420.89681355871"
      ]
     },
     "execution_count": 23,
     "metadata": {},
     "output_type": "execute_result"
    }
   ],
   "source": [
    "rmse_real"
   ]
  },
  {
   "cell_type": "code",
   "execution_count": 24,
   "id": "3c63d3df",
   "metadata": {
    "execution": {
     "iopub.execute_input": "2025-08-04T09:46:18.073315Z",
     "iopub.status.busy": "2025-08-04T09:46:18.072722Z",
     "iopub.status.idle": "2025-08-04T09:46:18.078072Z",
     "shell.execute_reply": "2025-08-04T09:46:18.077377Z"
    },
    "papermill": {
     "duration": 0.016676,
     "end_time": "2025-08-04T09:46:18.079305",
     "exception": false,
     "start_time": "2025-08-04T09:46:18.062629",
     "status": "completed"
    },
    "tags": []
   },
   "outputs": [
    {
     "data": {
      "text/plain": [
       "0.9062175133171044"
      ]
     },
     "execution_count": 24,
     "metadata": {},
     "output_type": "execute_result"
    }
   ],
   "source": [
    "r2_real"
   ]
  },
  {
   "cell_type": "code",
   "execution_count": null,
   "id": "e0c9b3e6",
   "metadata": {
    "papermill": {
     "duration": 0.008997,
     "end_time": "2025-08-04T09:46:18.097768",
     "exception": false,
     "start_time": "2025-08-04T09:46:18.088771",
     "status": "completed"
    },
    "tags": []
   },
   "outputs": [],
   "source": []
  },
  {
   "cell_type": "code",
   "execution_count": null,
   "id": "d63f7000",
   "metadata": {
    "papermill": {
     "duration": 0.008945,
     "end_time": "2025-08-04T09:46:18.115698",
     "exception": false,
     "start_time": "2025-08-04T09:46:18.106753",
     "status": "completed"
    },
    "tags": []
   },
   "outputs": [],
   "source": []
  },
  {
   "cell_type": "code",
   "execution_count": null,
   "id": "871c1da9",
   "metadata": {
    "papermill": {
     "duration": 0.008797,
     "end_time": "2025-08-04T09:46:18.133718",
     "exception": false,
     "start_time": "2025-08-04T09:46:18.124921",
     "status": "completed"
    },
    "tags": []
   },
   "outputs": [],
   "source": []
  }
 ],
 "metadata": {
  "kaggle": {
   "accelerator": "none",
   "dataSources": [
    {
     "datasetId": 51153,
     "sourceId": 95503,
     "sourceType": "datasetVersion"
    }
   ],
   "dockerImageVersionId": 31089,
   "isGpuEnabled": false,
   "isInternetEnabled": true,
   "language": "python",
   "sourceType": "notebook"
  },
  "kernelspec": {
   "display_name": "Python 3",
   "language": "python",
   "name": "python3"
  },
  "language_info": {
   "codemirror_mode": {
    "name": "ipython",
    "version": 3
   },
   "file_extension": ".py",
   "mimetype": "text/x-python",
   "name": "python",
   "nbconvert_exporter": "python",
   "pygments_lexer": "ipython3",
   "version": "3.11.13"
  },
  "papermill": {
   "default_parameters": {},
   "duration": 17.915458,
   "end_time": "2025-08-04T09:46:18.862859",
   "environment_variables": {},
   "exception": null,
   "input_path": "__notebook__.ipynb",
   "output_path": "__notebook__.ipynb",
   "parameters": {},
   "start_time": "2025-08-04T09:46:00.947401",
   "version": "2.6.0"
  }
 },
 "nbformat": 4,
 "nbformat_minor": 5
}
