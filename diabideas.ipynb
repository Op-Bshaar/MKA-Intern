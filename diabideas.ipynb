{
 "cells": [
  {
   "cell_type": "code",
   "execution_count": 4,
   "id": "c7e90be8-d6f8-48c4-80cf-dd96bcdb693d",
   "metadata": {},
   "outputs": [],
   "source": [
    "import pandas as pd\n",
    "import numpy as np\n",
    "import matplotlib.pyplot as plt\n",
    "import seaborn as sns\n",
    "import xgboost as xgb\n",
    "from sklearn.model_selection import train_test_split\n",
    "from sklearn.metrics import mean_squared_error\n",
    "\n"
   ]
  },
  {
   "cell_type": "code",
   "execution_count": 5,
   "id": "7fae9bee",
   "metadata": {},
   "outputs": [
    {
     "name": "stdout",
     "output_type": "stream",
     "text": [
      "Requirement already satisfied: imbalanced-learn in d:\\condaa\\lib\\site-packages (0.13.0)Note: you may need to restart the kernel to use updated packages.\n",
      "\n",
      "Requirement already satisfied: scikit-learn in d:\\condaa\\lib\\site-packages (1.6.1)\n",
      "Collecting scikit-learn\n",
      "  Using cached scikit_learn-1.7.1-cp312-cp312-win_amd64.whl.metadata (11 kB)\n",
      "Requirement already satisfied: numpy<3,>=1.24.3 in d:\\condaa\\lib\\site-packages (from imbalanced-learn) (1.26.4)\n",
      "Requirement already satisfied: scipy<2,>=1.10.1 in d:\\condaa\\lib\\site-packages (from imbalanced-learn) (1.13.1)\n",
      "Requirement already satisfied: sklearn-compat<1,>=0.1 in d:\\condaa\\lib\\site-packages (from imbalanced-learn) (0.1.3)\n",
      "Requirement already satisfied: joblib<2,>=1.1.1 in d:\\condaa\\lib\\site-packages (from imbalanced-learn) (1.4.2)\n",
      "Requirement already satisfied: threadpoolctl<4,>=2.0.0 in d:\\condaa\\lib\\site-packages (from imbalanced-learn) (3.5.0)\n"
     ]
    }
   ],
   "source": [
    "pip install -U imbalanced-learn scikit-learn"
   ]
  },
  {
   "cell_type": "code",
   "execution_count": 6,
   "id": "774d2929",
   "metadata": {},
   "outputs": [],
   "source": [
    "from imblearn.over_sampling import SMOTE"
   ]
  },
  {
   "cell_type": "code",
   "execution_count": 7,
   "id": "19ff4590-2b50-4b17-bf82-f579c1ee8a17",
   "metadata": {},
   "outputs": [
    {
     "data": {
      "text/html": [
       "<div>\n",
       "<style scoped>\n",
       "    .dataframe tbody tr th:only-of-type {\n",
       "        vertical-align: middle;\n",
       "    }\n",
       "\n",
       "    .dataframe tbody tr th {\n",
       "        vertical-align: top;\n",
       "    }\n",
       "\n",
       "    .dataframe thead th {\n",
       "        text-align: right;\n",
       "    }\n",
       "</style>\n",
       "<table border=\"1\" class=\"dataframe\">\n",
       "  <thead>\n",
       "    <tr style=\"text-align: right;\">\n",
       "      <th></th>\n",
       "      <th>encounter_id</th>\n",
       "      <th>patient_nbr</th>\n",
       "      <th>race</th>\n",
       "      <th>gender</th>\n",
       "      <th>age</th>\n",
       "      <th>weight</th>\n",
       "      <th>admission_type_id</th>\n",
       "      <th>discharge_disposition_id</th>\n",
       "      <th>admission_source_id</th>\n",
       "      <th>time_in_hospital</th>\n",
       "      <th>...</th>\n",
       "      <th>citoglipton</th>\n",
       "      <th>insulin</th>\n",
       "      <th>glyburide-metformin</th>\n",
       "      <th>glipizide-metformin</th>\n",
       "      <th>glimepiride-pioglitazone</th>\n",
       "      <th>metformin-rosiglitazone</th>\n",
       "      <th>metformin-pioglitazone</th>\n",
       "      <th>change</th>\n",
       "      <th>diabetesMed</th>\n",
       "      <th>readmitted</th>\n",
       "    </tr>\n",
       "  </thead>\n",
       "  <tbody>\n",
       "    <tr>\n",
       "      <th>0</th>\n",
       "      <td>2278392</td>\n",
       "      <td>8222157</td>\n",
       "      <td>Caucasian</td>\n",
       "      <td>Female</td>\n",
       "      <td>[0-10)</td>\n",
       "      <td>?</td>\n",
       "      <td>6</td>\n",
       "      <td>25</td>\n",
       "      <td>1</td>\n",
       "      <td>1</td>\n",
       "      <td>...</td>\n",
       "      <td>No</td>\n",
       "      <td>No</td>\n",
       "      <td>No</td>\n",
       "      <td>No</td>\n",
       "      <td>No</td>\n",
       "      <td>No</td>\n",
       "      <td>No</td>\n",
       "      <td>No</td>\n",
       "      <td>No</td>\n",
       "      <td>NO</td>\n",
       "    </tr>\n",
       "    <tr>\n",
       "      <th>1</th>\n",
       "      <td>149190</td>\n",
       "      <td>55629189</td>\n",
       "      <td>Caucasian</td>\n",
       "      <td>Female</td>\n",
       "      <td>[10-20)</td>\n",
       "      <td>?</td>\n",
       "      <td>1</td>\n",
       "      <td>1</td>\n",
       "      <td>7</td>\n",
       "      <td>3</td>\n",
       "      <td>...</td>\n",
       "      <td>No</td>\n",
       "      <td>Up</td>\n",
       "      <td>No</td>\n",
       "      <td>No</td>\n",
       "      <td>No</td>\n",
       "      <td>No</td>\n",
       "      <td>No</td>\n",
       "      <td>Ch</td>\n",
       "      <td>Yes</td>\n",
       "      <td>&gt;30</td>\n",
       "    </tr>\n",
       "    <tr>\n",
       "      <th>2</th>\n",
       "      <td>64410</td>\n",
       "      <td>86047875</td>\n",
       "      <td>AfricanAmerican</td>\n",
       "      <td>Female</td>\n",
       "      <td>[20-30)</td>\n",
       "      <td>?</td>\n",
       "      <td>1</td>\n",
       "      <td>1</td>\n",
       "      <td>7</td>\n",
       "      <td>2</td>\n",
       "      <td>...</td>\n",
       "      <td>No</td>\n",
       "      <td>No</td>\n",
       "      <td>No</td>\n",
       "      <td>No</td>\n",
       "      <td>No</td>\n",
       "      <td>No</td>\n",
       "      <td>No</td>\n",
       "      <td>No</td>\n",
       "      <td>Yes</td>\n",
       "      <td>NO</td>\n",
       "    </tr>\n",
       "    <tr>\n",
       "      <th>3</th>\n",
       "      <td>500364</td>\n",
       "      <td>82442376</td>\n",
       "      <td>Caucasian</td>\n",
       "      <td>Male</td>\n",
       "      <td>[30-40)</td>\n",
       "      <td>?</td>\n",
       "      <td>1</td>\n",
       "      <td>1</td>\n",
       "      <td>7</td>\n",
       "      <td>2</td>\n",
       "      <td>...</td>\n",
       "      <td>No</td>\n",
       "      <td>Up</td>\n",
       "      <td>No</td>\n",
       "      <td>No</td>\n",
       "      <td>No</td>\n",
       "      <td>No</td>\n",
       "      <td>No</td>\n",
       "      <td>Ch</td>\n",
       "      <td>Yes</td>\n",
       "      <td>NO</td>\n",
       "    </tr>\n",
       "    <tr>\n",
       "      <th>4</th>\n",
       "      <td>16680</td>\n",
       "      <td>42519267</td>\n",
       "      <td>Caucasian</td>\n",
       "      <td>Male</td>\n",
       "      <td>[40-50)</td>\n",
       "      <td>?</td>\n",
       "      <td>1</td>\n",
       "      <td>1</td>\n",
       "      <td>7</td>\n",
       "      <td>1</td>\n",
       "      <td>...</td>\n",
       "      <td>No</td>\n",
       "      <td>Steady</td>\n",
       "      <td>No</td>\n",
       "      <td>No</td>\n",
       "      <td>No</td>\n",
       "      <td>No</td>\n",
       "      <td>No</td>\n",
       "      <td>Ch</td>\n",
       "      <td>Yes</td>\n",
       "      <td>NO</td>\n",
       "    </tr>\n",
       "  </tbody>\n",
       "</table>\n",
       "<p>5 rows × 50 columns</p>\n",
       "</div>"
      ],
      "text/plain": [
       "   encounter_id  patient_nbr             race  gender      age weight  \\\n",
       "0       2278392      8222157        Caucasian  Female   [0-10)      ?   \n",
       "1        149190     55629189        Caucasian  Female  [10-20)      ?   \n",
       "2         64410     86047875  AfricanAmerican  Female  [20-30)      ?   \n",
       "3        500364     82442376        Caucasian    Male  [30-40)      ?   \n",
       "4         16680     42519267        Caucasian    Male  [40-50)      ?   \n",
       "\n",
       "   admission_type_id  discharge_disposition_id  admission_source_id  \\\n",
       "0                  6                        25                    1   \n",
       "1                  1                         1                    7   \n",
       "2                  1                         1                    7   \n",
       "3                  1                         1                    7   \n",
       "4                  1                         1                    7   \n",
       "\n",
       "   time_in_hospital  ... citoglipton insulin  glyburide-metformin  \\\n",
       "0                 1  ...          No      No                   No   \n",
       "1                 3  ...          No      Up                   No   \n",
       "2                 2  ...          No      No                   No   \n",
       "3                 2  ...          No      Up                   No   \n",
       "4                 1  ...          No  Steady                   No   \n",
       "\n",
       "   glipizide-metformin  glimepiride-pioglitazone  metformin-rosiglitazone  \\\n",
       "0                   No                        No                       No   \n",
       "1                   No                        No                       No   \n",
       "2                   No                        No                       No   \n",
       "3                   No                        No                       No   \n",
       "4                   No                        No                       No   \n",
       "\n",
       "   metformin-pioglitazone  change diabetesMed readmitted  \n",
       "0                      No      No          No         NO  \n",
       "1                      No      Ch         Yes        >30  \n",
       "2                      No      No         Yes         NO  \n",
       "3                      No      Ch         Yes         NO  \n",
       "4                      No      Ch         Yes         NO  \n",
       "\n",
       "[5 rows x 50 columns]"
      ]
     },
     "execution_count": 7,
     "metadata": {},
     "output_type": "execute_result"
    }
   ],
   "source": [
    "df = pd.read_csv('diabetic_data.csv')\n",
    "df.head()"
   ]
  },
  {
   "cell_type": "code",
   "execution_count": 8,
   "id": "cc31b8c9-b881-4f56-a38d-0cc06f539972",
   "metadata": {},
   "outputs": [
    {
     "data": {
      "text/plain": [
       "Index(['encounter_id', 'patient_nbr', 'race', 'gender', 'age', 'weight',\n",
       "       'admission_type_id', 'discharge_disposition_id', 'admission_source_id',\n",
       "       'time_in_hospital', 'payer_code', 'medical_specialty',\n",
       "       'num_lab_procedures', 'num_procedures', 'num_medications',\n",
       "       'number_outpatient', 'number_emergency', 'number_inpatient', 'diag_1',\n",
       "       'diag_2', 'diag_3', 'number_diagnoses', 'max_glu_serum', 'A1Cresult',\n",
       "       'metformin', 'repaglinide', 'nateglinide', 'chlorpropamide',\n",
       "       'glimepiride', 'acetohexamide', 'glipizide', 'glyburide', 'tolbutamide',\n",
       "       'pioglitazone', 'rosiglitazone', 'acarbose', 'miglitol', 'troglitazone',\n",
       "       'tolazamide', 'examide', 'citoglipton', 'insulin',\n",
       "       'glyburide-metformin', 'glipizide-metformin',\n",
       "       'glimepiride-pioglitazone', 'metformin-rosiglitazone',\n",
       "       'metformin-pioglitazone', 'change', 'diabetesMed', 'readmitted'],\n",
       "      dtype='object')"
      ]
     },
     "execution_count": 8,
     "metadata": {},
     "output_type": "execute_result"
    }
   ],
   "source": [
    "df.columns"
   ]
  },
  {
   "cell_type": "code",
   "execution_count": 9,
   "id": "88d8452a-3984-4a25-a11d-985019009c6e",
   "metadata": {},
   "outputs": [
    {
     "data": {
      "text/plain": [
       "encounter_id                    0\n",
       "patient_nbr                     0\n",
       "race                            0\n",
       "gender                          0\n",
       "age                             0\n",
       "weight                          0\n",
       "admission_type_id               0\n",
       "discharge_disposition_id        0\n",
       "admission_source_id             0\n",
       "time_in_hospital                0\n",
       "payer_code                      0\n",
       "medical_specialty               0\n",
       "num_lab_procedures              0\n",
       "num_procedures                  0\n",
       "num_medications                 0\n",
       "number_outpatient               0\n",
       "number_emergency                0\n",
       "number_inpatient                0\n",
       "diag_1                          0\n",
       "diag_2                          0\n",
       "diag_3                          0\n",
       "number_diagnoses                0\n",
       "max_glu_serum               96420\n",
       "A1Cresult                   84748\n",
       "metformin                       0\n",
       "repaglinide                     0\n",
       "nateglinide                     0\n",
       "chlorpropamide                  0\n",
       "glimepiride                     0\n",
       "acetohexamide                   0\n",
       "glipizide                       0\n",
       "glyburide                       0\n",
       "tolbutamide                     0\n",
       "pioglitazone                    0\n",
       "rosiglitazone                   0\n",
       "acarbose                        0\n",
       "miglitol                        0\n",
       "troglitazone                    0\n",
       "tolazamide                      0\n",
       "examide                         0\n",
       "citoglipton                     0\n",
       "insulin                         0\n",
       "glyburide-metformin             0\n",
       "glipizide-metformin             0\n",
       "glimepiride-pioglitazone        0\n",
       "metformin-rosiglitazone         0\n",
       "metformin-pioglitazone          0\n",
       "change                          0\n",
       "diabetesMed                     0\n",
       "readmitted                      0\n",
       "dtype: int64"
      ]
     },
     "execution_count": 9,
     "metadata": {},
     "output_type": "execute_result"
    }
   ],
   "source": [
    "df.isnull().sum()"
   ]
  },
  {
   "cell_type": "code",
   "execution_count": 10,
   "id": "f9264508-68ce-4b46-8de8-cf9f8d58ca64",
   "metadata": {},
   "outputs": [],
   "source": [
    "df['max_glu_serum'] = df['max_glu_serum'].fillna(df['max_glu_serum'].mode()[0])\n",
    "df['A1Cresult'] = df['A1Cresult'].fillna(df['A1Cresult'].mode()[0])"
   ]
  },
  {
   "cell_type": "code",
   "execution_count": 11,
   "id": "e4c298a4-6a66-41ee-99e0-f5a8d0d693bf",
   "metadata": {},
   "outputs": [
    {
     "data": {
      "text/plain": [
       "<Axes: xlabel='readmitted', ylabel='num_medications'>"
      ]
     },
     "execution_count": 11,
     "metadata": {},
     "output_type": "execute_result"
    },
    {
     "data": {
      "image/png": "[encoded data removed]",
      "text/plain": [
       "<Figure size 640x480 with 1 Axes>"
      ]
     },
     "metadata": {},
     "output_type": "display_data"
    }
   ],
   "source": [
    "sns.barplot(x='readmitted', y='num_medications', data=df)"
   ]
  },
  {
   "cell_type": "code",
   "execution_count": 12,
   "id": "937f12c1-1911-4233-bb92-91f23aa68cb1",
   "metadata": {},
   "outputs": [
    {
     "data": {
      "text/plain": [
       "<Axes: xlabel='readmitted', ylabel='count'>"
      ]
     },
     "execution_count": 12,
     "metadata": {},
     "output_type": "execute_result"
    },
    {
     "data": {
      "image/png": "[encoded data removed]",
      "text/plain": [
       "<Figure size 640x480 with 1 Axes>"
      ]
     },
     "metadata": {},
     "output_type": "display_data"
    }
   ],
   "source": [
    "df['readmitted'] = df['readmitted'].apply(lambda x: 1 if x == '<30' else 0)\n",
    "\n",
    "sns.countplot(x='readmitted', data=df)"
   ]
  },
  {
   "cell_type": "code",
   "execution_count": 13,
   "id": "3c5b687e-fd8c-44ef-bbfc-39ea67064490",
   "metadata": {},
   "outputs": [],
   "source": [
    "df.drop(columns=['encounter_id', 'patient_nbr'], inplace=True)"
   ]
  },
  {
   "cell_type": "code",
   "execution_count": 14,
   "id": "ad878c62-e637-44f9-80ed-84f665b4e354",
   "metadata": {},
   "outputs": [],
   "source": [
    "X = df.drop(columns=['readmitted'])\n",
    "y = df['readmitted']\n"
   ]
  },
  {
   "cell_type": "code",
   "execution_count": 17,
   "id": "48163192-9273-485b-8622-68601d6e9d85",
   "metadata": {},
   "outputs": [],
   "source": [
    "X_train, X_test, y_train, y_test = train_test_split(X, y, test_size=0.2,stratify=y,random_state=42)\n"
   ]
  },
  {
   "cell_type": "code",
   "execution_count": 19,
   "id": "a4fb06fd",
   "metadata": {},
   "outputs": [],
   "source": [
    "from sklearn.preprocessing import LabelEncoder\n",
    "\n",
    "\n",
    "X_train_encoded = X_train.copy()\n",
    "\n",
    "\n",
    "for col in X_train_encoded.select_dtypes(include='object').columns:\n",
    "    le = LabelEncoder()\n",
    "    X_train_encoded[col] = le.fit_transform(X_train_encoded[col])\n"
   ]
  },
  {
   "cell_type": "code",
   "execution_count": 21,
   "id": "652b18d1",
   "metadata": {},
   "outputs": [],
   "source": [
    "from imblearn.over_sampling import SMOTE\n",
    "\n",
    "smote = SMOTE(random_state=42)\n",
    "X_train_smote, y_train_smote = smote.fit_resample(X_train_encoded, y_train)\n"
   ]
  },
  {
   "cell_type": "code",
   "execution_count": 23,
   "id": "f96ea866",
   "metadata": {},
   "outputs": [
    {
     "name": "stdout",
     "output_type": "stream",
     "text": [
      "Before SMOTE: Counter({0: 72326, 1: 9086})\n",
      "after SMOTE: Counter({0: 72326, 1: 72326})\n"
     ]
    }
   ],
   "source": [
    "from collections import Counter\n",
    "\n",
    "print(\"Before SMOTE:\", Counter(y_train))\n",
    "print(\"after SMOTE:\", Counter(y_train_smote))"
   ]
  },
  {
   "cell_type": "code",
   "execution_count": null,
   "id": "cec55381",
   "metadata": {},
   "outputs": [
    {
     "name": "stdout",
     "output_type": "stream",
     "text": [
      "Collecting catboostNote: you may need to restart the kernel to use updated packages.\n",
      "\n",
      "  Downloading catboost-1.2.8-cp312-cp312-win_amd64.whl.metadata (1.5 kB)\n",
      "Collecting graphviz (from catboost)\n",
      "  Downloading graphviz-0.21-py3-none-any.whl.metadata (12 kB)\n",
      "Requirement already satisfied: matplotlib in d:\\condaa\\lib\\site-packages (from catboost) (3.9.2)\n",
      "Requirement already satisfied: numpy<3.0,>=1.16.0 in d:\\condaa\\lib\\site-packages (from catboost) (1.26.4)\n",
      "Requirement already satisfied: pandas>=0.24 in d:\\condaa\\lib\\site-packages (from catboost) (2.2.2)\n",
      "Requirement already satisfied: scipy in d:\\condaa\\lib\\site-packages (from catboost) (1.13.1)\n",
      "Requirement already satisfied: plotly in d:\\condaa\\lib\\site-packages (from catboost) (5.24.1)\n",
      "Requirement already satisfied: six in d:\\condaa\\lib\\site-packages (from catboost) (1.16.0)\n",
      "Requirement already satisfied: python-dateutil>=2.8.2 in d:\\condaa\\lib\\site-packages (from pandas>=0.24->catboost) (2.9.0.post0)\n",
      "Requirement already satisfied: pytz>=2020.1 in d:\\condaa\\lib\\site-packages (from pandas>=0.24->catboost) (2024.1)\n",
      "Requirement already satisfied: tzdata>=2022.7 in d:\\condaa\\lib\\site-packages (from pandas>=0.24->catboost) (2023.3)\n",
      "Requirement already satisfied: contourpy>=1.0.1 in d:\\condaa\\lib\\site-packages (from matplotlib->catboost) (1.2.0)\n",
      "Requirement already satisfied: cycler>=0.10 in d:\\condaa\\lib\\site-packages (from matplotlib->catboost) (0.11.0)\n",
      "Requirement already satisfied: fonttools>=4.22.0 in d:\\condaa\\lib\\site-packages (from matplotlib->catboost) (4.51.0)\n",
      "Requirement already satisfied: kiwisolver>=1.3.1 in d:\\condaa\\lib\\site-packages (from matplotlib->catboost) (1.4.4)\n",
      "Requirement already satisfied: packaging>=20.0 in d:\\condaa\\lib\\site-packages (from matplotlib->catboost) (24.1)\n",
      "Requirement already satisfied: pillow>=8 in d:\\condaa\\lib\\site-packages (from matplotlib->catboost) (10.4.0)\n",
      "Requirement already satisfied: pyparsing>=2.3.1 in d:\\condaa\\lib\\site-packages (from matplotlib->catboost) (3.1.2)\n",
      "Requirement already satisfied: tenacity>=6.2.0 in d:\\condaa\\lib\\site-packages (from plotly->catboost) (8.2.3)\n",
      "Downloading catboost-1.2.8-cp312-cp312-win_amd64.whl (102.4 MB)\n",
      "   ---------------------------------------- 0.0/102.4 MB ? eta -:--:--\n",
      "   ---------------------------------------- 0.0/102.4 MB ? eta -:--:--\n",
      "   ---------------------------------------- 0.3/102.4 MB ? eta -:--:--\n",
      "   ---------------------------------------- 1.0/102.4 MB 3.3 MB/s eta 0:00:31\n",
      "    --------------------------------------- 2.1/102.4 MB 3.8 MB/s eta 0:00:27\n",
      "   - -------------------------------------- 2.9/102.4 MB 3.7 MB/s eta 0:00:27\n",
      "   - -------------------------------------- 3.7/102.4 MB 3.8 MB/s eta 0:00:27\n",
      "   - -------------------------------------- 4.5/102.4 MB 3.8 MB/s eta 0:00:26\n",
      "   -- ------------------------------------- 5.2/102.4 MB 3.8 MB/s eta 0:00:26\n",
      "   -- ------------------------------------- 6.0/102.4 MB 3.8 MB/s eta 0:00:26\n",
      "   -- ------------------------------------- 6.8/102.4 MB 3.9 MB/s eta 0:00:25\n",
      "   --- ------------------------------------ 7.9/102.4 MB 3.9 MB/s eta 0:00:25\n",
      "   --- ------------------------------------ 8.7/102.4 MB 3.8 MB/s eta 0:00:25\n",
      "   --- ------------------------------------ 9.4/102.4 MB 3.9 MB/s eta 0:00:25\n",
      "   --- ------------------------------------ 10.2/102.4 MB 3.8 MB/s eta 0:00:25\n",
      "   ---- ----------------------------------- 11.0/102.4 MB 3.8 MB/s eta 0:00:24\n",
      "   ---- ----------------------------------- 11.5/102.4 MB 3.8 MB/s eta 0:00:24\n",
      "   ---- ----------------------------------- 12.1/102.4 MB 3.6 MB/s eta 0:00:25\n",
      "   ---- ----------------------------------- 12.6/102.4 MB 3.6 MB/s eta 0:00:25\n",
      "   ----- ---------------------------------- 13.6/102.4 MB 3.7 MB/s eta 0:00:24\n",
      "   ----- ---------------------------------- 14.7/102.4 MB 3.7 MB/s eta 0:00:24\n",
      "   ----- ---------------------------------- 15.2/102.4 MB 3.7 MB/s eta 0:00:24\n",
      "   ------ --------------------------------- 15.7/102.4 MB 3.7 MB/s eta 0:00:24\n",
      "   ------ --------------------------------- 16.3/102.4 MB 3.6 MB/s eta 0:00:24\n",
      "   ------ --------------------------------- 17.0/102.4 MB 3.5 MB/s eta 0:00:25\n",
      "   ------ --------------------------------- 17.6/102.4 MB 3.5 MB/s eta 0:00:25\n",
      "   ------- -------------------------------- 18.1/102.4 MB 3.5 MB/s eta 0:00:25\n",
      "   ------- -------------------------------- 18.6/102.4 MB 3.5 MB/s eta 0:00:25\n",
      "   ------- -------------------------------- 19.4/102.4 MB 3.4 MB/s eta 0:00:25\n",
      "   ------- -------------------------------- 19.9/102.4 MB 3.4 MB/s eta 0:00:25\n",
      "   ------- -------------------------------- 20.4/102.4 MB 3.4 MB/s eta 0:00:25\n",
      "   -------- ------------------------------- 21.2/102.4 MB 3.4 MB/s eta 0:00:24\n",
      "   -------- ------------------------------- 21.8/102.4 MB 3.4 MB/s eta 0:00:24\n",
      "   -------- ------------------------------- 22.5/102.4 MB 3.4 MB/s eta 0:00:24\n",
      "   --------- ------------------------------ 23.1/102.4 MB 3.4 MB/s eta 0:00:24\n",
      "   --------- ------------------------------ 23.9/102.4 MB 3.4 MB/s eta 0:00:24\n",
      "   --------- ------------------------------ 24.6/102.4 MB 3.4 MB/s eta 0:00:24\n",
      "   --------- ------------------------------ 25.2/102.4 MB 3.3 MB/s eta 0:00:24\n",
      "   ---------- ----------------------------- 25.7/102.4 MB 3.3 MB/s eta 0:00:23\n",
      "   ---------- ----------------------------- 26.2/102.4 MB 3.3 MB/s eta 0:00:23\n",
      "   ---------- ----------------------------- 26.7/102.4 MB 3.3 MB/s eta 0:00:23\n",
      "   ---------- ----------------------------- 27.5/102.4 MB 3.3 MB/s eta 0:00:23\n",
      "   ----------- ---------------------------- 28.3/102.4 MB 3.3 MB/s eta 0:00:23\n",
      "   ----------- ---------------------------- 29.1/102.4 MB 3.3 MB/s eta 0:00:23\n",
      "   ----------- ---------------------------- 29.6/102.4 MB 3.3 MB/s eta 0:00:23\n",
      "   ----------- ---------------------------- 30.4/102.4 MB 3.3 MB/s eta 0:00:22\n",
      "   ------------ --------------------------- 31.2/102.4 MB 3.3 MB/s eta 0:00:22\n",
      "   ------------ --------------------------- 31.7/102.4 MB 3.3 MB/s eta 0:00:22\n",
      "   ------------ --------------------------- 32.5/102.4 MB 3.3 MB/s eta 0:00:22\n",
      "   ------------- -------------------------- 33.3/102.4 MB 3.3 MB/s eta 0:00:21\n",
      "   ------------- -------------------------- 34.1/102.4 MB 3.3 MB/s eta 0:00:21\n",
      "   ------------- -------------------------- 34.6/102.4 MB 3.3 MB/s eta 0:00:21\n",
      "   ------------- -------------------------- 35.4/102.4 MB 3.3 MB/s eta 0:00:21\n",
      "   -------------- ------------------------- 36.2/102.4 MB 3.3 MB/s eta 0:00:20\n",
      "   -------------- ------------------------- 37.0/102.4 MB 3.3 MB/s eta 0:00:20\n",
      "   -------------- ------------------------- 37.7/102.4 MB 3.3 MB/s eta 0:00:20\n",
      "   --------------- ------------------------ 38.5/102.4 MB 3.3 MB/s eta 0:00:20\n",
      "   --------------- ------------------------ 39.3/102.4 MB 3.4 MB/s eta 0:00:19\n",
      "   --------------- ------------------------ 40.1/102.4 MB 3.4 MB/s eta 0:00:19\n",
      "   --------------- ------------------------ 40.9/102.4 MB 3.4 MB/s eta 0:00:19\n",
      "   ---------------- ----------------------- 41.7/102.4 MB 3.4 MB/s eta 0:00:19\n",
      "   ---------------- ----------------------- 42.5/102.4 MB 3.4 MB/s eta 0:00:18\n",
      "   ---------------- ----------------------- 43.0/102.4 MB 3.4 MB/s eta 0:00:18\n",
      "   ----------------- ---------------------- 43.8/102.4 MB 3.4 MB/s eta 0:00:18\n",
      "   ----------------- ---------------------- 44.6/102.4 MB 3.4 MB/s eta 0:00:18\n",
      "   ----------------- ---------------------- 45.4/102.4 MB 3.4 MB/s eta 0:00:17\n",
      "   ------------------ --------------------- 46.1/102.4 MB 3.4 MB/s eta 0:00:17\n",
      "   ------------------ --------------------- 46.9/102.4 MB 3.4 MB/s eta 0:00:17\n",
      "   ------------------ --------------------- 47.7/102.4 MB 3.4 MB/s eta 0:00:17\n",
      "   ------------------ --------------------- 48.5/102.4 MB 3.4 MB/s eta 0:00:16\n",
      "   ------------------- -------------------- 49.3/102.4 MB 3.4 MB/s eta 0:00:16\n",
      "   ------------------- -------------------- 50.1/102.4 MB 3.4 MB/s eta 0:00:16\n",
      "   ------------------- -------------------- 50.9/102.4 MB 3.4 MB/s eta 0:00:16\n",
      "   -------------------- ------------------- 51.6/102.4 MB 3.4 MB/s eta 0:00:15\n",
      "   -------------------- ------------------- 52.4/102.4 MB 3.4 MB/s eta 0:00:15\n",
      "   -------------------- ------------------- 53.2/102.4 MB 3.4 MB/s eta 0:00:15\n",
      "   --------------------- ------------------ 54.0/102.4 MB 3.4 MB/s eta 0:00:15\n",
      "   --------------------- ------------------ 54.8/102.4 MB 3.4 MB/s eta 0:00:14\n",
      "   --------------------- ------------------ 55.6/102.4 MB 3.4 MB/s eta 0:00:14\n",
      "   --------------------- ------------------ 56.1/102.4 MB 3.4 MB/s eta 0:00:14\n",
      "   ---------------------- ----------------- 56.9/102.4 MB 3.4 MB/s eta 0:00:14\n",
      "   ---------------------- ----------------- 57.7/102.4 MB 3.4 MB/s eta 0:00:13\n",
      "   ---------------------- ----------------- 58.5/102.4 MB 3.4 MB/s eta 0:00:13\n",
      "   ----------------------- ---------------- 59.2/102.4 MB 3.5 MB/s eta 0:00:13\n",
      "   ----------------------- ---------------- 60.0/102.4 MB 3.5 MB/s eta 0:00:13\n",
      "   ----------------------- ---------------- 60.6/102.4 MB 3.5 MB/s eta 0:00:13\n",
      "   ----------------------- ---------------- 61.3/102.4 MB 3.5 MB/s eta 0:00:12\n",
      "   ------------------------ --------------- 62.1/102.4 MB 3.5 MB/s eta 0:00:12\n",
      "   ------------------------ --------------- 62.7/102.4 MB 3.5 MB/s eta 0:00:12\n",
      "   ------------------------ --------------- 62.9/102.4 MB 3.4 MB/s eta 0:00:12\n",
      "   ------------------------ --------------- 64.0/102.4 MB 3.4 MB/s eta 0:00:12\n",
      "   ------------------------- -------------- 64.7/102.4 MB 3.4 MB/s eta 0:00:11\n",
      "   ------------------------- -------------- 65.5/102.4 MB 3.5 MB/s eta 0:00:11\n",
      "   ------------------------- -------------- 66.3/102.4 MB 3.5 MB/s eta 0:00:11\n",
      "   -------------------------- ------------- 67.1/102.4 MB 3.5 MB/s eta 0:00:11\n",
      "   -------------------------- ------------- 67.6/102.4 MB 3.5 MB/s eta 0:00:11\n",
      "   -------------------------- ------------- 68.4/102.4 MB 3.5 MB/s eta 0:00:10\n",
      "   -------------------------- ------------- 68.9/102.4 MB 3.5 MB/s eta 0:00:10\n",
      "   --------------------------- ------------ 69.7/102.4 MB 3.5 MB/s eta 0:00:10\n",
      "   --------------------------- ------------ 70.3/102.4 MB 3.5 MB/s eta 0:00:10\n",
      "   --------------------------- ------------ 71.0/102.4 MB 3.5 MB/s eta 0:00:10\n",
      "   ---------------------------- ----------- 71.8/102.4 MB 3.5 MB/s eta 0:00:09\n",
      "   ---------------------------- ----------- 72.6/102.4 MB 3.5 MB/s eta 0:00:09\n",
      "   ---------------------------- ----------- 73.1/102.4 MB 3.5 MB/s eta 0:00:09\n",
      "   ---------------------------- ----------- 73.9/102.4 MB 3.5 MB/s eta 0:00:09\n",
      "   ----------------------------- ---------- 74.7/102.4 MB 3.5 MB/s eta 0:00:09\n",
      "   ----------------------------- ---------- 75.2/102.4 MB 3.5 MB/s eta 0:00:08\n",
      "   ----------------------------- ---------- 76.0/102.4 MB 3.5 MB/s eta 0:00:08\n",
      "   ----------------------------- ---------- 76.8/102.4 MB 3.5 MB/s eta 0:00:08\n",
      "   ------------------------------ --------- 77.6/102.4 MB 3.5 MB/s eta 0:00:08\n",
      "   ------------------------------ --------- 78.4/102.4 MB 3.5 MB/s eta 0:00:07\n",
      "   ------------------------------ --------- 79.2/102.4 MB 3.5 MB/s eta 0:00:07\n",
      "   ------------------------------- -------- 79.7/102.4 MB 3.5 MB/s eta 0:00:07\n",
      "   ------------------------------- -------- 80.5/102.4 MB 3.5 MB/s eta 0:00:07\n",
      "   ------------------------------- -------- 81.3/102.4 MB 3.5 MB/s eta 0:00:07\n",
      "   -------------------------------- ------- 82.1/102.4 MB 3.5 MB/s eta 0:00:06\n",
      "   -------------------------------- ------- 82.8/102.4 MB 3.5 MB/s eta 0:00:06\n",
      "   -------------------------------- ------- 83.4/102.4 MB 3.5 MB/s eta 0:00:06\n",
      "   -------------------------------- ------- 84.1/102.4 MB 3.5 MB/s eta 0:00:06\n",
      "   --------------------------------- ------ 84.9/102.4 MB 3.5 MB/s eta 0:00:06\n",
      "   --------------------------------- ------ 85.7/102.4 MB 3.5 MB/s eta 0:00:05\n",
      "   --------------------------------- ------ 86.2/102.4 MB 3.5 MB/s eta 0:00:05\n",
      "   --------------------------------- ------ 87.0/102.4 MB 3.5 MB/s eta 0:00:05\n",
      "   ---------------------------------- ----- 87.8/102.4 MB 3.5 MB/s eta 0:00:05\n",
      "   ---------------------------------- ----- 88.6/102.4 MB 3.5 MB/s eta 0:00:04\n",
      "   ---------------------------------- ----- 89.1/102.4 MB 3.5 MB/s eta 0:00:04\n",
      "   ----------------------------------- ---- 89.9/102.4 MB 3.5 MB/s eta 0:00:04\n",
      "   ----------------------------------- ---- 90.4/102.4 MB 3.5 MB/s eta 0:00:04\n",
      "   ----------------------------------- ---- 91.2/102.4 MB 3.5 MB/s eta 0:00:04\n",
      "   ----------------------------------- ---- 92.0/102.4 MB 3.5 MB/s eta 0:00:04\n",
      "   ------------------------------------ --- 92.8/102.4 MB 3.5 MB/s eta 0:00:03\n",
      "   ------------------------------------ --- 93.6/102.4 MB 3.5 MB/s eta 0:00:03\n",
      "   ------------------------------------ --- 94.4/102.4 MB 3.5 MB/s eta 0:00:03\n",
      "   ------------------------------------- -- 94.9/102.4 MB 3.5 MB/s eta 0:00:03\n",
      "   ------------------------------------- -- 95.7/102.4 MB 3.5 MB/s eta 0:00:02\n",
      "   ------------------------------------- -- 96.5/102.4 MB 3.5 MB/s eta 0:00:02\n",
      "   ------------------------------------- -- 97.3/102.4 MB 3.5 MB/s eta 0:00:02\n",
      "   -------------------------------------- - 98.0/102.4 MB 3.5 MB/s eta 0:00:02\n",
      "   -------------------------------------- - 98.6/102.4 MB 3.5 MB/s eta 0:00:02\n",
      "   -------------------------------------- - 99.4/102.4 MB 3.5 MB/s eta 0:00:01\n",
      "   ---------------------------------------  100.1/102.4 MB 3.5 MB/s eta 0:00:01\n",
      "   ---------------------------------------  100.9/102.4 MB 3.5 MB/s eta 0:00:01\n",
      "   ---------------------------------------  101.7/102.4 MB 3.5 MB/s eta 0:00:01\n",
      "   ---------------------------------------  102.2/102.4 MB 3.5 MB/s eta 0:00:01\n",
      "   ---------------------------------------- 102.4/102.4 MB 3.5 MB/s eta 0:00:00\n",
      "Downloading graphviz-0.21-py3-none-any.whl (47 kB)\n",
      "Installing collected packages: graphviz, catboost\n",
      "Successfully installed catboost-1.2.8 graphviz-0.21\n"
     ]
    }
   ],
   "source": [
    "pip install catboost"
   ]
  },
  {
   "cell_type": "code",
   "execution_count": 25,
   "id": "fc96d4d3-2e5c-4a65-b548-15c3584fd5b7",
   "metadata": {},
   "outputs": [],
   "source": [
    "from catboost import CatBoostClassifier"
   ]
  },
  {
   "cell_type": "code",
   "execution_count": 26,
   "id": "3fe29786",
   "metadata": {},
   "outputs": [],
   "source": [
    "cat_features = df.select_dtypes(include=['object']).columns.tolist()\n",
    "\n"
   ]
  },
  {
   "cell_type": "code",
   "execution_count": 27,
   "id": "96756961-18a8-47a5-a57d-56e5c38c02ec",
   "metadata": {},
   "outputs": [
    {
     "name": "stdout",
     "output_type": "stream",
     "text": [
      "0:\tlearn: 0.6306852\ttotal: 464ms\tremaining: 7m 43s\n",
      "100:\tlearn: 0.2696157\ttotal: 41.7s\tremaining: 6m 10s\n",
      "200:\tlearn: 0.2465680\ttotal: 1m 19s\tremaining: 5m 17s\n",
      "300:\tlearn: 0.2355265\ttotal: 1m 59s\tremaining: 4m 36s\n",
      "400:\tlearn: 0.2278002\ttotal: 2m 38s\tremaining: 3m 57s\n",
      "500:\tlearn: 0.2212188\ttotal: 3m 21s\tremaining: 3m 20s\n",
      "600:\tlearn: 0.2169888\ttotal: 3m 58s\tremaining: 2m 38s\n",
      "700:\tlearn: 0.2136473\ttotal: 4m 40s\tremaining: 1m 59s\n",
      "800:\tlearn: 0.2103853\ttotal: 5m 31s\tremaining: 1m 22s\n",
      "900:\tlearn: 0.2075531\ttotal: 6m 22s\tremaining: 42s\n",
      "999:\tlearn: 0.2045374\ttotal: 7m 13s\tremaining: 0us\n"
     ]
    },
    {
     "data": {
      "text/plain": [
       "<catboost.core.CatBoostClassifier at 0x29e0086a960>"
      ]
     },
     "execution_count": 27,
     "metadata": {},
     "output_type": "execute_result"
    }
   ],
   "source": [
    "cat_model = CatBoostClassifier(iterations=1000, learning_rate=0.1, depth=6, verbose=100)\n",
    "cat_model.fit(X_train_smote, y_train_smote , cat_features=cat_features)\n"
   ]
  },
  {
   "cell_type": "code",
   "execution_count": 28,
   "id": "f4493bab-77d7-46bc-bc1b-7e0ebe228c0c",
   "metadata": {},
   "outputs": [],
   "source": [
    "\n",
    "from sklearn.metrics import accuracy_score, classification_report, confusion_matrix"
   ]
  },
  {
   "cell_type": "code",
   "execution_count": 29,
   "id": "ec69a25d-2993-46ec-81f0-2776d04c7de4",
   "metadata": {},
   "outputs": [
    {
     "data": {
      "text/plain": [
       "0.8861648815957551"
      ]
     },
     "execution_count": 29,
     "metadata": {},
     "output_type": "execute_result"
    }
   ],
   "source": [
    "y_pred = cat_model.predict(X_test)\n",
    "accuracy_score(y_test, y_pred)\n"
   ]
  },
  {
   "cell_type": "code",
   "execution_count": 30,
   "id": "3f960d48-c71f-47cb-a61e-524bedec2e6a",
   "metadata": {},
   "outputs": [
    {
     "name": "stdout",
     "output_type": "stream",
     "text": [
      "              precision    recall  f1-score   support\n",
      "\n",
      "           0       0.89      1.00      0.94     18083\n",
      "           1       0.24      0.01      0.02      2271\n",
      "\n",
      "    accuracy                           0.89     20354\n",
      "   macro avg       0.57      0.50      0.48     20354\n",
      "weighted avg       0.82      0.89      0.84     20354\n",
      "\n"
     ]
    }
   ],
   "source": [
    "print(classification_report(y_test, y_pred))\n"
   ]
  },
  {
   "cell_type": "code",
   "execution_count": 31,
   "id": "5985d127-c55b-443c-9ada-517368d57b96",
   "metadata": {},
   "outputs": [
    {
     "data": {
      "text/plain": [
       "array([[18015,    68],\n",
       "       [ 2249,    22]], dtype=int64)"
      ]
     },
     "execution_count": 31,
     "metadata": {},
     "output_type": "execute_result"
    }
   ],
   "source": [
    "confusion_matrix(y_test, y_pred)"
   ]
  },
  {
   "cell_type": "code",
   "execution_count": null,
   "id": "abffe193-cfc1-4562-9139-290736035d07",
   "metadata": {},
   "outputs": [],
   "source": []
  }
 ],
 "metadata": {
  "kernelspec": {
   "display_name": "base",
   "language": "python",
   "name": "python3"
  },
  "language_info": {
   "codemirror_mode": {
    "name": "ipython",
    "version": 3
   },
   "file_extension": ".py",
   "mimetype": "text/x-python",
   "name": "python",
   "nbconvert_exporter": "python",
   "pygments_lexer": "ipython3",
   "version": "3.12.7"
  }
 },
 "nbformat": 4,
 "nbformat_minor": 5
}
